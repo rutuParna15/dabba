{
 "cells": [
  {
   "cell_type": "markdown",
   "id": "20ac4f0f",
   "metadata": {},
   "source": [
    "binary classification"
   ]
  },
  {
   "cell_type": "code",
   "execution_count": null,
   "id": "2f9a6f9c",
   "metadata": {
    "vscode": {
     "languageId": "plaintext"
    }
   },
   "outputs": [],
   "source": [
    "import numpy as np\n",
    "import pandas as pd\n",
    "import matplotlib.pyplot as plt\n",
    "import seaborn as sns\n",
    "from sklearn.model_selection import train_test_split\n",
    "from sklearn.linear_model import LogisticRegression\n",
    "from sklearn.metrics import accuracy_score, confusion_matrix, classification_report\n",
    "\n",
    "# Step 1: Load your dataset from a CSV file\n",
    "# Replace 'your_dataset.csv' with the path to your CSV file\n",
    "df = pd.read_csv('/content/drive/MyDrive/CSV Files/insurance_data.csv')\n",
    "\n",
    "# Display the first few rows of the dataset\n",
    "print(df.head())\n",
    "\n",
    "X = df[['age']]  # Feature (independent variable)\n",
    "y = df['bought_insurance']  # Target (dependent variable)\n",
    "\n",
    "# Step 3: Visualize the data\n",
    "plt.figure(figsize=(8, 6))\n",
    "sns.scatterplot(x='age', y='bought_insurance', data=df)\n",
    "plt.title('Age vs Bought Insurance')\n",
    "plt.xlabel('Age')\n",
    "plt.ylabel('Bought Insurance')\n",
    "plt.show()\n",
    "\n",
    "# Step 4: Split the data into training and testing sets\n",
    "X_train, X_test, y_train, y_test = train_test_split(X, y, test_size=0.2, random_state=42)\n",
    "\n",
    "# Step 5: Initialize and train the logistic regression model\n",
    "model = LogisticRegression()\n",
    "model.fit(X_train, y_train)\n",
    "\n",
    "# Step 6: Make predictions on the test set\n",
    "y_pred = model.predict(X_test)\n",
    "\n",
    "# Step 7: Evaluate the model\n",
    "print(\"Accuracy:\", accuracy_score(y_test, y_pred))\n",
    "print(\"Confusion Matrix:\\n\", confusion_matrix(y_test, y_pred))\n",
    "print(\"Classification Report:\\n\", classification_report(y_test, y_pred))\n",
    "\n",
    "# Step 8: Visualize the decision boundary\n",
    "plt.figure(figsize=(8, 6))\n",
    "sns.scatterplot(x='age', y='bought_insurance', data=df, hue='bought_insurance')\n",
    "plt.title('Age vs Bought Insurance with Decision Boundary')\n",
    "plt.xlabel('Age')\n",
    "plt.ylabel('Bought Insurance')\n",
    "\n",
    "# Plot the logistic regression curve\n",
    "ages = np.linspace(df['age'].min(), df['age'].max(), 100)\n",
    "probabilities = model.predict_proba(ages.reshape(-1, 1))[:, 1]\n",
    "plt.plot(ages, probabilities, color='red', label='Logistic Regression Curve')\n",
    "\n",
    "plt.legend()\n",
    "plt.show()"
   ]
  }
 ],
 "metadata": {
  "language_info": {
   "name": "python"
  }
 },
 "nbformat": 4,
 "nbformat_minor": 5
}
