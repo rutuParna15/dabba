{
  "nbformat": 4,
  "nbformat_minor": 0,
  "metadata": {
    "colab": {
      "provenance": []
    },
    "kernelspec": {
      "name": "python3",
      "display_name": "Python 3"
    },
    "language_info": {
      "name": "python"
    }
  },
  "cells": [
    {
      "cell_type": "markdown",
      "source": [
        "**Experiment No. 2**"
      ],
      "metadata": {
        "id": "BqjzUqqDWYdl"
      }
    },
    {
      "cell_type": "markdown",
      "source": [
        "**Aim: Study Of Machine Learning Libraries and Tools.**"
      ],
      "metadata": {
        "id": "clt0gNi3WfX8"
      }
    },
    {
      "cell_type": "markdown",
      "source": [
        "**1. Math Library**"
      ],
      "metadata": {
        "id": "CAdD32JiW5tT"
      }
    },
    {
      "cell_type": "code",
      "source": [
        "import math\n",
        "\n",
        "x = 16\n",
        "result = math.sqrt(x)\n",
        "print(result)  # Output: 4.0\n"
      ],
      "metadata": {
        "colab": {
          "base_uri": "https://localhost:8080/"
        },
        "id": "5lFd-LsFXKlL",
        "outputId": "e9f6a071-b95d-4a49-b94a-ef53a0d137a5"
      },
      "execution_count": null,
      "outputs": [
        {
          "output_type": "stream",
          "name": "stdout",
          "text": [
            "4.0\n"
          ]
        }
      ]
    },
    {
      "cell_type": "code",
      "source": [
        "import math\n",
        "\n",
        "x = 5\n",
        "result = math.factorial(x)\n",
        "print(result)  # Output: 120\n"
      ],
      "metadata": {
        "colab": {
          "base_uri": "https://localhost:8080/"
        },
        "id": "RC01htDJXVGC",
        "outputId": "fff0f3d8-3e81-4827-e98a-08c225099a15"
      },
      "execution_count": null,
      "outputs": [
        {
          "output_type": "stream",
          "name": "stdout",
          "text": [
            "120\n"
          ]
        }
      ]
    },
    {
      "cell_type": "code",
      "source": [
        "import math\n",
        "\n",
        "x = math.pi / 2  # 90 degrees in radians\n",
        "result = math.sin(x)\n",
        "print(result)  # Output: 1.0\n"
      ],
      "metadata": {
        "colab": {
          "base_uri": "https://localhost:8080/"
        },
        "id": "SWx-QXYVXZxb",
        "outputId": "45469c28-9519-4fa9-f15a-026d9d47dc59"
      },
      "execution_count": null,
      "outputs": [
        {
          "output_type": "stream",
          "name": "stdout",
          "text": [
            "1.0\n"
          ]
        }
      ]
    },
    {
      "cell_type": "code",
      "source": [
        "import math\n",
        "\n",
        "x = 100\n",
        "base = 10\n",
        "result = math.log(x, base)\n",
        "print(result)  # Output: 2.0 (log base 10 of 100)\n"
      ],
      "metadata": {
        "colab": {
          "base_uri": "https://localhost:8080/"
        },
        "id": "MzFMn-tsXdP6",
        "outputId": "c324970a-09d1-459f-cb41-a09f62e85ebb"
      },
      "execution_count": null,
      "outputs": [
        {
          "output_type": "stream",
          "name": "stdout",
          "text": [
            "2.0\n"
          ]
        }
      ]
    },
    {
      "cell_type": "code",
      "source": [
        "import math\n",
        "\n",
        "x = 180  # Degrees\n",
        "result = math.radians(x)\n",
        "print(result)  # Output: 3.141592653589793 (pi in radians)\n"
      ],
      "metadata": {
        "colab": {
          "base_uri": "https://localhost:8080/"
        },
        "id": "QQp7R3nqXiCz",
        "outputId": "0aa6a33c-a40f-44c0-a971-1814198c63d1"
      },
      "execution_count": null,
      "outputs": [
        {
          "output_type": "stream",
          "name": "stdout",
          "text": [
            "3.141592653589793\n"
          ]
        }
      ]
    },
    {
      "cell_type": "markdown",
      "source": [
        "**2. MatPotlib**"
      ],
      "metadata": {
        "id": "ErP4zZAGXo8y"
      }
    },
    {
      "cell_type": "code",
      "source": [
        "import matplotlib.pyplot as plt\n",
        "\n",
        "x = [1, 2, 3, 4, 5]\n",
        "y = [2, 4, 6, 8, 10]\n",
        "\n",
        "plt.plot(x, y)\n",
        "plt.title(\"Simple Line Plot\")\n",
        "plt.xlabel(\"X Axis\")\n",
        "plt.ylabel(\"Y Axis\")\n",
        "plt.show()\n"
      ],
      "metadata": {
        "colab": {
          "base_uri": "https://localhost:8080/",
          "height": 472
        },
        "id": "V9B3lg3MXu5q",
        "outputId": "f96b625a-1751-4c6d-e757-ba59ef890a80"
      },
      "execution_count": null,
      "outputs": [
        {
          "output_type": "display_data",
          "data": {
            "text/plain": [
              "<Figure size 640x480 with 1 Axes>"
            ],
            "image/png": "[encoded data removed]"
          },
          "metadata": {}
        }
      ]
    },
    {
      "cell_type": "code",
      "source": [
        "import matplotlib.pyplot as plt\n",
        "\n",
        "x = [1, 2, 3, 4, 5]\n",
        "y = [2, 4, 6, 8, 10]\n",
        "\n",
        "plt.scatter(x, y)\n",
        "plt.title(\"Scatter Plot\")\n",
        "plt.xlabel(\"X Axis\")\n",
        "plt.ylabel(\"Y Axis\")\n",
        "plt.show()\n"
      ],
      "metadata": {
        "colab": {
          "base_uri": "https://localhost:8080/",
          "height": 472
        },
        "id": "_djJUNs_X99i",
        "outputId": "cecb9914-d0ac-4bc5-8535-fbb2c77d28ae"
      },
      "execution_count": null,
      "outputs": [
        {
          "output_type": "display_data",
          "data": {
            "text/plain": [
              "<Figure size 640x480 with 1 Axes>"
            ],
            "image/png": "[encoded data removed]"
          },
          "metadata": {}
        }
      ]
    },
    {
      "cell_type": "code",
      "source": [
        "import matplotlib.pyplot as plt\n",
        "\n",
        "data = [1, 2, 2, 3, 3, 3, 4, 4, 4, 4, 5, 5, 5, 5, 5]\n",
        "\n",
        "plt.hist(data, bins=5, edgecolor='black')\n",
        "plt.title(\"Histogram\")\n",
        "plt.xlabel(\"Values\")\n",
        "plt.ylabel(\"Frequency\")\n",
        "plt.show()\n"
      ],
      "metadata": {
        "colab": {
          "base_uri": "https://localhost:8080/",
          "height": 472
        },
        "id": "lsbYC-nWYBJb",
        "outputId": "076d0482-c3b9-4250-eca7-b14f6f96f4e5"
      },
      "execution_count": null,
      "outputs": [
        {
          "output_type": "display_data",
          "data": {
            "text/plain": [
              "<Figure size 640x480 with 1 Axes>"
            ],
            "image/png": "[encoded data removed]"
          },
          "metadata": {}
        }
      ]
    },
    {
      "cell_type": "code",
      "source": [
        "import matplotlib.pyplot as plt\n",
        "\n",
        "categories = ['A', 'B', 'C', 'D']\n",
        "values = [5, 7, 3, 9]\n",
        "\n",
        "plt.bar(categories, values)\n",
        "plt.title(\"Bar Chart\")\n",
        "plt.xlabel(\"Categories\")\n",
        "plt.ylabel(\"Values\")\n",
        "plt.show()\n"
      ],
      "metadata": {
        "colab": {
          "base_uri": "https://localhost:8080/",
          "height": 472
        },
        "id": "iy0S6uL4YFQy",
        "outputId": "4694e904-c158-4cfa-bb14-d92764ef4d98"
      },
      "execution_count": null,
      "outputs": [
        {
          "output_type": "display_data",
          "data": {
            "text/plain": [
              "<Figure size 640x480 with 1 Axes>"
            ],
            "image/png": "[encoded data removed]"
          },
          "metadata": {}
        }
      ]
    },
    {
      "cell_type": "code",
      "source": [
        "import matplotlib.pyplot as plt\n",
        "\n",
        "labels = ['Apple', 'Banana', 'Cherry', 'Date']\n",
        "sizes = [40, 30, 20, 10]\n",
        "\n",
        "plt.pie(sizes, labels=labels, autopct='%1.1f%%')\n",
        "plt.title(\"Pie Chart\")\n",
        "plt.show()\n"
      ],
      "metadata": {
        "colab": {
          "base_uri": "https://localhost:8080/",
          "height": 428
        },
        "id": "PpjtTcnVYIJ7",
        "outputId": "bca4badd-2ac0-4591-cf91-97781a4f63f2"
      },
      "execution_count": null,
      "outputs": [
        {
          "output_type": "display_data",
          "data": {
            "text/plain": [
              "<Figure size 640x480 with 1 Axes>"
            ],
            "image/png": "[encoded data removed]"
          },
          "metadata": {}
        }
      ]
    },
    {
      "cell_type": "markdown",
      "source": [
        "**3. Numpy**"
      ],
      "metadata": {
        "id": "ISb5F3Y6YLLZ"
      }
    },
    {
      "cell_type": "code",
      "source": [
        "import numpy as np\n",
        "\n",
        "# Creating a numpy array from a list\n",
        "arr = np.array([1, 2, 3, 4, 5])\n",
        "print(arr)\n",
        "# Output: [1 2 3 4 5]\n"
      ],
      "metadata": {
        "colab": {
          "base_uri": "https://localhost:8080/"
        },
        "id": "nPT64wjEYPix",
        "outputId": "95cad584-8953-41d8-9d88-86857dc13ba0"
      },
      "execution_count": null,
      "outputs": [
        {
          "output_type": "stream",
          "name": "stdout",
          "text": [
            "[1 2 3 4 5]\n"
          ]
        }
      ]
    },
    {
      "cell_type": "code",
      "source": [
        "import numpy as np\n",
        "\n",
        "# Generate 5 equally spaced numbers between 0 and 10\n",
        "arr = np.linspace(0, 10, 5)\n",
        "print(arr)\n",
        "# Output: [ 0.   2.5  5.   7.5 10. ]\n"
      ],
      "metadata": {
        "colab": {
          "base_uri": "https://localhost:8080/"
        },
        "id": "l3E6WFU_Yd7J",
        "outputId": "9bf64c16-4b8b-4518-c351-0889555a1ce5"
      },
      "execution_count": null,
      "outputs": [
        {
          "output_type": "stream",
          "name": "stdout",
          "text": [
            "[ 0.   2.5  5.   7.5 10. ]\n"
          ]
        }
      ]
    },
    {
      "cell_type": "code",
      "source": [
        "import numpy as np\n",
        "\n",
        "arr = np.array([1, 2, 3, 4, 5])\n",
        "\n",
        "mean_value = np.mean(arr)\n",
        "print(mean_value)\n",
        "# Output: 3.0\n"
      ],
      "metadata": {
        "colab": {
          "base_uri": "https://localhost:8080/"
        },
        "id": "Zd6BmB4mYhjZ",
        "outputId": "fab1b50c-a224-4c75-f9f7-d3138065274b"
      },
      "execution_count": null,
      "outputs": [
        {
          "output_type": "stream",
          "name": "stdout",
          "text": [
            "3.0\n"
          ]
        }
      ]
    },
    {
      "cell_type": "code",
      "source": [
        "import numpy as np\n",
        "\n",
        "arr = np.array([1, 2, 3, 4, 5, 6])\n",
        "reshaped_arr = arr.reshape(2, 3)  # Reshape to 2 rows, 3 columns\n",
        "print(reshaped_arr)\n",
        "# Output:\n",
        "# [[1 2 3]\n",
        "#  [4 5 6]]\n"
      ],
      "metadata": {
        "colab": {
          "base_uri": "https://localhost:8080/"
        },
        "id": "xG3pMEM6YlMh",
        "outputId": "67266fb2-d579-4549-94c7-6a7a91d701c2"
      },
      "execution_count": null,
      "outputs": [
        {
          "output_type": "stream",
          "name": "stdout",
          "text": [
            "[[1 2 3]\n",
            " [4 5 6]]\n"
          ]
        }
      ]
    },
    {
      "cell_type": "code",
      "source": [
        "import numpy as np\n",
        "\n",
        "arr1 = np.array([1, 2])\n",
        "arr2 = np.array([3, 4])\n",
        "\n",
        "dot_product = np.dot(arr1, arr2)\n",
        "print(dot_product)\n",
        "# Output: 11 (1*3 + 2*4)\n"
      ],
      "metadata": {
        "colab": {
          "base_uri": "https://localhost:8080/"
        },
        "id": "VjP1gNHgYn-K",
        "outputId": "3cd5ba24-41c4-45e2-acf1-861effb2f9b3"
      },
      "execution_count": null,
      "outputs": [
        {
          "output_type": "stream",
          "name": "stdout",
          "text": [
            "11\n"
          ]
        }
      ]
    },
    {
      "cell_type": "markdown",
      "source": [
        "**4. Pandas**"
      ],
      "metadata": {
        "id": "6OxPkEXcYpwp"
      }
    },
    {
      "cell_type": "code",
      "source": [
        "import pandas as pd\n",
        "\n",
        "data = {'Name': ['Alice', 'Bob', 'Charlie'], 'Age': [24, 27, 22]}\n",
        "df = pd.DataFrame(data)\n",
        "print(df)\n",
        "# Output:\n",
        "#       Name  Age\n",
        "# 0    Alice   24\n",
        "# 1      Bob   27\n",
        "# 2  Charlie   22\n"
      ],
      "metadata": {
        "colab": {
          "base_uri": "https://localhost:8080/"
        },
        "id": "TVAbhG8wYuB5",
        "outputId": "8e8d3cb6-997b-4445-cca7-e566e33befa6"
      },
      "execution_count": null,
      "outputs": [
        {
          "output_type": "stream",
          "name": "stdout",
          "text": [
            "      Name  Age\n",
            "0    Alice   24\n",
            "1      Bob   27\n",
            "2  Charlie   22\n"
          ]
        }
      ]
    },
    {
      "cell_type": "code",
      "source": [
        "import pandas as pd\n",
        "\n",
        "# Assuming there is a file 'data.csv' with appropriate data\n",
        "df = pd.read_csv('data.csv')\n",
        "print(df.head())  # Prints first 5 rows of the DataFrame\n"
      ],
      "metadata": {
        "collapsed": true,
        "id": "Djnekw1UZqnA"
      },
      "execution_count": null,
      "outputs": []
    },
    {
      "cell_type": "code",
      "source": [
        "import pandas as pd\n",
        "\n",
        "data = {'Name': ['Alice', 'Bob', None], 'Age': [24, None, 22]}\n",
        "df = pd.DataFrame(data)\n",
        "\n",
        "# Check for null values\n",
        "print(pd.isnull(df))\n",
        "# Output:\n",
        "#    Name    Age\n",
        "# 0  False  False\n",
        "# 1  False   True\n",
        "# 2   True  False\n"
      ],
      "metadata": {
        "colab": {
          "base_uri": "https://localhost:8080/"
        },
        "id": "Y_QY8qPVak54",
        "outputId": "97f68d8b-3072-44ea-fcc5-7b8d7a9ef841"
      },
      "execution_count": null,
      "outputs": [
        {
          "output_type": "stream",
          "name": "stdout",
          "text": [
            "    Name    Age\n",
            "0  False  False\n",
            "1  False   True\n",
            "2   True  False\n"
          ]
        }
      ]
    },
    {
      "cell_type": "code",
      "source": [
        "import pandas as pd\n",
        "\n",
        "data = {'Name': ['Alice', 'Bob', 'Charlie'], 'Age': [24, 27, 22]}\n",
        "df = pd.DataFrame(data)\n",
        "\n",
        "# Drop the 'Age' column\n",
        "df_dropped = df.drop(columns=['Age'])\n",
        "print(df_dropped)\n",
        "# Output:\n",
        "#       Name\n",
        "# 0    Alice\n",
        "# 1      Bob\n",
        "# 2  Charlie\n"
      ],
      "metadata": {
        "colab": {
          "base_uri": "https://localhost:8080/"
        },
        "id": "-TzX50HRaph-",
        "outputId": "84dd6d6c-fc76-40d9-ed4e-89f229ff501e"
      },
      "execution_count": null,
      "outputs": [
        {
          "output_type": "stream",
          "name": "stdout",
          "text": [
            "      Name\n",
            "0    Alice\n",
            "1      Bob\n",
            "2  Charlie\n"
          ]
        }
      ]
    },
    {
      "cell_type": "code",
      "source": [
        "import pandas as pd\n",
        "\n",
        "data = {'Category': ['A', 'B', 'A', 'B', 'A'], 'Values': [10, 20, 30, 40, 50]}\n",
        "df = pd.DataFrame(data)\n",
        "\n",
        "# Group by 'Category' and calculate the sum of 'Values'\n",
        "grouped = df.groupby('Category')['Values'].sum()\n",
        "print(grouped)\n",
        "# Output:\n",
        "# Category\n",
        "# A    90\n",
        "# B    60\n",
        "# Name: Values, dtype: int64\n"
      ],
      "metadata": {
        "colab": {
          "base_uri": "https://localhost:8080/"
        },
        "id": "w1DvjTZ8avMe",
        "outputId": "540a3b38-610b-4ad6-9ab7-d2d67e7ce366"
      },
      "execution_count": null,
      "outputs": [
        {
          "output_type": "stream",
          "name": "stdout",
          "text": [
            "Category\n",
            "A    90\n",
            "B    60\n",
            "Name: Values, dtype: int64\n"
          ]
        }
      ]
    },
    {
      "cell_type": "markdown",
      "source": [
        "**5. Scipy**"
      ],
      "metadata": {
        "id": "v9pt3zfjc56y"
      }
    },
    {
      "cell_type": "code",
      "source": [
        "import scipy.integrate as integrate\n",
        "\n",
        "# Define a simple function to integrate\n",
        "def f(x):\n",
        "    return x**2\n",
        "\n",
        "# Compute the integral of f(x) from 0 to 1\n",
        "result, error = integrate.quad(f, 0, 1)\n",
        "print(f\"Integral result: {result}, Estimated error: {error}\")\n",
        "# Output: Integral result: 0.33333333333333337, Estimated error: 3.700743415417189e-11\n"
      ],
      "metadata": {
        "colab": {
          "base_uri": "https://localhost:8080/"
        },
        "id": "QM7lLaFJc9RE",
        "outputId": "85b21660-e927-4400-a4d1-219de91b80b4"
      },
      "execution_count": null,
      "outputs": [
        {
          "output_type": "stream",
          "name": "stdout",
          "text": [
            "Integral result: 0.33333333333333337, Estimated error: 3.700743415417189e-15\n"
          ]
        }
      ]
    },
    {
      "cell_type": "code",
      "source": [
        "import scipy.optimize as opt\n",
        "\n",
        "# Define a simple quadratic function\n",
        "def f(x):\n",
        "    return x**2 + 4*x + 4\n",
        "\n",
        "# Minimize the function\n",
        "result = opt.minimize(f, 0)  # Initial guess is 0\n",
        "print(f\"Optimal value of x: {result.x}, Minimum value: {result.fun}\")\n",
        "# Output: Optimal value of x: [-2.], Minimum value: 0.0\n"
      ],
      "metadata": {
        "colab": {
          "base_uri": "https://localhost:8080/"
        },
        "id": "4Pd03OmcdCgb",
        "outputId": "3691eaee-f25a-47a2-f741-c249c6b34c0d"
      },
      "execution_count": null,
      "outputs": [
        {
          "output_type": "stream",
          "name": "stdout",
          "text": [
            "Optimal value of x: [-2.00000002], Minimum value: 0.0\n"
          ]
        }
      ]
    },
    {
      "cell_type": "code",
      "source": [
        "import scipy.linalg as linalg\n",
        "import numpy as np\n",
        "\n",
        "# Define a 2x2 matrix A and a 2x1 vector b\n",
        "A = np.array([[3, 2], [1, 4]])\n",
        "b = np.array([5, 6])\n",
        "\n",
        "# Solve the system of equations\n",
        "x = linalg.solve(A, b)\n",
        "print(f\"Solution: {x}\")\n",
        "# Output: Solution: [1. 1.]\n"
      ],
      "metadata": {
        "colab": {
          "base_uri": "https://localhost:8080/"
        },
        "id": "5w3XmvxbdH16",
        "outputId": "06928c61-8e35-40e6-d6b8-0728b20189e2"
      },
      "execution_count": null,
      "outputs": [
        {
          "output_type": "stream",
          "name": "stdout",
          "text": [
            "Solution: [0.8 1.3]\n"
          ]
        }
      ]
    },
    {
      "cell_type": "code",
      "source": [
        "import scipy.stats as stats\n",
        "\n",
        "# Compute the PDF of a standard normal distribution at x = 0\n",
        "pdf_value = stats.norm.pdf(0)\n",
        "print(f\"PDF at x=0: {pdf_value}\")\n",
        "# Output: PDF at x=0: 0.3989422804014337\n"
      ],
      "metadata": {
        "colab": {
          "base_uri": "https://localhost:8080/"
        },
        "id": "jgPrOfMrdKpS",
        "outputId": "3395f967-9fd1-4c03-b986-e1bda740d6e8"
      },
      "execution_count": null,
      "outputs": [
        {
          "output_type": "stream",
          "name": "stdout",
          "text": [
            "PDF at x=0: 0.3989422804014327\n"
          ]
        }
      ]
    },
    {
      "cell_type": "code",
      "source": [
        "import scipy.interpolate as interpolate\n",
        "import numpy as np\n",
        "\n",
        "# Define some sample data\n",
        "x = np.array([1, 2, 3, 4])\n",
        "y = np.array([1, 4, 9, 16])\n",
        "\n",
        "# Create a linear interpolation function\n",
        "f = interpolate.interp1d(x, y)\n",
        "\n",
        "# Interpolate at a new point\n",
        "y_new = f(2.5)\n",
        "print(f\"Interpolated value at x=2.5: {y_new}\")\n",
        "# Output: Interpolated value at x=2.5: 6.25\n"
      ],
      "metadata": {
        "colab": {
          "base_uri": "https://localhost:8080/"
        },
        "id": "69HwLZ3rdcRK",
        "outputId": "a72736ed-c7fc-4217-90e0-e8b0847292ef"
      },
      "execution_count": null,
      "outputs": [
        {
          "output_type": "stream",
          "name": "stdout",
          "text": [
            "Interpolated value at x=2.5: 6.5\n"
          ]
        }
      ]
    },
    {
      "cell_type": "markdown",
      "source": [
        "**6. Sklearn**"
      ],
      "metadata": {
        "id": "AcXFenI8debp"
      }
    },
    {
      "cell_type": "markdown",
      "source": [
        "6.1 sklearn.model_selection.train_test_split()"
      ],
      "metadata": {
        "id": "40xPyt84dicC"
      }
    },
    {
      "cell_type": "code",
      "source": [
        "from sklearn.model_selection import train_test_split\n",
        "import numpy as np\n",
        "\n",
        "# Create a sample dataset\n",
        "X = np.array([[1, 2], [3, 4], [5, 6], [7, 8], [9, 10]])\n",
        "y = np.array([1, 2, 3, 4, 5])\n",
        "\n",
        "# Split the dataset into 80% training and 20% testing\n",
        "X_train, X_test, y_train, y_test = train_test_split(X, y, test_size=0.2, random_state=42)\n",
        "\n",
        "print(\"Training data:\", X_train)\n",
        "print(\"Testing data:\", X_test)\n"
      ],
      "metadata": {
        "colab": {
          "base_uri": "https://localhost:8080/"
        },
        "id": "yJLavjoOd05J",
        "outputId": "67b98c81-5247-416e-f54d-ea568a50d0f1"
      },
      "execution_count": null,
      "outputs": [
        {
          "output_type": "stream",
          "name": "stdout",
          "text": [
            "Training data: [[ 9 10]\n",
            " [ 5  6]\n",
            " [ 1  2]\n",
            " [ 7  8]]\n",
            "Testing data: [[3 4]]\n"
          ]
        }
      ]
    },
    {
      "cell_type": "markdown",
      "source": [
        "6.2 sklearn.linear_model.LinearRegression()"
      ],
      "metadata": {
        "id": "OommwMijd4Hx"
      }
    },
    {
      "cell_type": "code",
      "source": [
        "from sklearn.linear_model import LinearRegression\n",
        "import numpy as np\n",
        "\n",
        "# Create a simple dataset\n",
        "X = np.array([[1], [2], [3], [4], [5]])\n",
        "y = np.array([1, 2, 3, 4, 5])\n",
        "\n",
        "# Create a linear regression model\n",
        "model = LinearRegression()\n",
        "\n",
        "# Train the model\n",
        "model.fit(X, y)\n",
        "\n",
        "# Predict the value for a new input\n",
        "prediction = model.predict([[6]])\n",
        "print(\"Prediction for 6:\", prediction)\n",
        "# Output: Prediction for 6: [6.]\n"
      ],
      "metadata": {
        "colab": {
          "base_uri": "https://localhost:8080/"
        },
        "id": "qtxIcWzTeALw",
        "outputId": "914702a2-09ff-40ff-8483-29b976e0b995"
      },
      "execution_count": null,
      "outputs": [
        {
          "output_type": "stream",
          "name": "stdout",
          "text": [
            "Prediction for 6: [6.]\n"
          ]
        }
      ]
    },
    {
      "cell_type": "markdown",
      "source": [
        "6.3 sklearn.preprocessing.StandardScaler()"
      ],
      "metadata": {
        "id": "96e1RH1WeCeo"
      }
    },
    {
      "cell_type": "code",
      "source": [
        "from sklearn.preprocessing import StandardScaler\n",
        "import numpy as np\n",
        "\n",
        "# Create a dataset with two features\n",
        "X = np.array([[1, 2], [3, 4], [5, 6]])\n",
        "\n",
        "# Create a StandardScaler object\n",
        "scaler = StandardScaler()\n",
        "\n",
        "# Fit and transform the data\n",
        "X_scaled = scaler.fit_transform(X)\n",
        "print(\"Scaled Data:\\n\", X_scaled)\n"
      ],
      "metadata": {
        "colab": {
          "base_uri": "https://localhost:8080/"
        },
        "id": "I5rHyjIreIGw",
        "outputId": "0fab6461-45cf-4cb8-d8a7-405a8153375e"
      },
      "execution_count": null,
      "outputs": [
        {
          "output_type": "stream",
          "name": "stdout",
          "text": [
            "Scaled Data:\n",
            " [[-1.22474487 -1.22474487]\n",
            " [ 0.          0.        ]\n",
            " [ 1.22474487  1.22474487]]\n"
          ]
        }
      ]
    },
    {
      "cell_type": "markdown",
      "source": [
        "6.4 sklearn.svm.SVC()"
      ],
      "metadata": {
        "id": "H3cTNgt-eLw4"
      }
    },
    {
      "cell_type": "code",
      "source": [
        "from sklearn.svm import SVC\n",
        "from sklearn.datasets import make_classification\n",
        "from sklearn.model_selection import train_test_split\n",
        "\n",
        "# Create a synthetic dataset\n",
        "X, y = make_classification(n_samples=100, n_features=2, random_state=42)\n",
        "\n",
        "# Split the dataset into training and testing sets\n",
        "X_train, X_test, y_train, y_test = train_test_split(X, y, test_size=0.3, random_state=42)\n",
        "\n",
        "# Create an SVC model\n",
        "model = SVC()\n",
        "\n",
        "# Train the model\n",
        "model.fit(X_train, y_train)\n",
        "\n",
        "# Evaluate the model on the test set\n",
        "accuracy = model.score(X_test, y_test)\n",
        "print(\"Accuracy:\", accuracy)\n"
      ],
      "metadata": {
        "id": "QYi2tePRePMR"
      },
      "execution_count": null,
      "outputs": []
    },
    {
      "cell_type": "markdown",
      "source": [
        "6.5 sklearn.metrics.confusion_matrix()"
      ],
      "metadata": {
        "id": "EFrn4rF0eVmY"
      }
    },
    {
      "cell_type": "code",
      "source": [
        "from sklearn.metrics import confusion_matrix\n",
        "from sklearn.datasets import make_classification\n",
        "from sklearn.model_selection import train_test_split\n",
        "from sklearn.svm import SVC\n",
        "\n",
        "# Create a synthetic dataset\n",
        "X, y = make_classification(n_samples=100, n_features=2, random_state=42)\n",
        "\n",
        "# Split the dataset into training and testing sets\n",
        "X_train, X_test, y_train, y_test = train_test_split(X, y, test_size=0.3, random_state=42)\n",
        "\n",
        "# Create an SVC model\n",
        "model = SVC()\n",
        "\n",
        "# Train the model\n",
        "model.fit(X_train, y_train)\n",
        "\n",
        "# Make predictions on the test set\n",
        "y_pred = model.predict(X_test)\n",
        "\n",
        "# Compute the confusion matrix\n",
        "cm = confusion_matrix(y_test, y_pred)\n",
        "\n",
        "# Print the confusion matrix\n",
        "print(\"Confusion Matrix:\\n\", cm)\n"
      ],
      "metadata": {
        "id": "NzfUj_LEeYfx"
      },
      "execution_count": null,
      "outputs": []
    },
    {
      "cell_type": "markdown",
      "source": [
        "**7. Tensorflow**"
      ],
      "metadata": {
        "id": "G1hemv5xfJBn"
      }
    },
    {
      "cell_type": "markdown",
      "source": [
        "7.1 tensorflow.constant()"
      ],
      "metadata": {
        "id": "lYJs_X_nfuH2"
      }
    },
    {
      "cell_type": "code",
      "source": [
        "import tensorflow as tf\n",
        "\n",
        "# Create a constant tensor with the value 5\n",
        "tensor = tf.constant(5)\n",
        "print(tensor)\n"
      ],
      "metadata": {
        "colab": {
          "base_uri": "https://localhost:8080/"
        },
        "id": "3Q0yjVdofvi4",
        "outputId": "9f1888b3-9008-4fb1-b389-270fb9186e2b"
      },
      "execution_count": null,
      "outputs": [
        {
          "output_type": "stream",
          "name": "stdout",
          "text": [
            "tf.Tensor(5, shape=(), dtype=int32)\n"
          ]
        }
      ]
    },
    {
      "cell_type": "markdown",
      "source": [
        "7.2 tensorflow.Variable()"
      ],
      "metadata": {
        "id": "a7J3zTFlf3M2"
      }
    },
    {
      "cell_type": "code",
      "source": [
        "import tensorflow as tf\n",
        "\n",
        "# Create a variable tensor with initial value 10\n",
        "var = tf.Variable(10)\n",
        "print(var)\n"
      ],
      "metadata": {
        "colab": {
          "base_uri": "https://localhost:8080/"
        },
        "id": "GQyNh32ef9lO",
        "outputId": "d04a09c4-9ba3-49a9-d5e5-b1f520b4eff3"
      },
      "execution_count": null,
      "outputs": [
        {
          "output_type": "stream",
          "name": "stdout",
          "text": [
            "<tf.Variable 'Variable:0' shape=() dtype=int32, numpy=10>\n"
          ]
        }
      ]
    },
    {
      "cell_type": "markdown",
      "source": [
        "7.3 tensorflow.keras.layers.Dense()"
      ],
      "metadata": {
        "id": "NjZOVESdgBX-"
      }
    },
    {
      "cell_type": "code",
      "source": [
        "import tensorflow as tf\n",
        "from tensorflow.keras.layers import Dense\n",
        "from tensorflow.keras.models import Sequential\n",
        "\n",
        "# Create a simple neural network model\n",
        "model = Sequential()\n",
        "model.add(Dense(10, activation='relu', input_shape=(5,)))  # Add a dense layer with 10 units\n",
        "\n",
        "# Print the model summary\n",
        "model.summary()\n"
      ],
      "metadata": {
        "colab": {
          "base_uri": "https://localhost:8080/",
          "height": 225
        },
        "id": "Z6qi3TIKgILm",
        "outputId": "e3bd460c-3cc4-45bb-b717-b70fdb3eac1a"
      },
      "execution_count": null,
      "outputs": [
        {
          "output_type": "stream",
          "name": "stderr",
          "text": [
            "/usr/local/lib/python3.11/dist-packages/keras/src/layers/core/dense.py:87: UserWarning: Do not pass an `input_shape`/`input_dim` argument to a layer. When using Sequential models, prefer using an `Input(shape)` object as the first layer in the model instead.\n",
            "  super().__init__(activity_regularizer=activity_regularizer, **kwargs)\n"
          ]
        },
        {
          "output_type": "display_data",
          "data": {
            "text/plain": [
              "\u001b[1mModel: \"sequential_1\"\u001b[0m\n"
            ],
            "text/html": [
              "<pre style=\"white-space:pre;overflow-x:auto;line-height:normal;font-family:Menlo,'DejaVu Sans Mono',consolas,'Courier New',monospace\"><span style=\"font-weight: bold\">Model: \"sequential_1\"</span>\n",
              "</pre>\n"
            ]
          },
          "metadata": {}
        },
        {
          "output_type": "display_data",
          "data": {
            "text/plain": [
              "┏━━━━━━━━━━━━━━━━━━━━━━━━━━━━━━━━━━━━━━┳━━━━━━━━━━━━━━━━━━━━━━━━━━━━━┳━━━━━━━━━━━━━━━━━┓\n",
              "┃\u001b[1m \u001b[0m\u001b[1mLayer (type)                        \u001b[0m\u001b[1m \u001b[0m┃\u001b[1m \u001b[0m\u001b[1mOutput Shape               \u001b[0m\u001b[1m \u001b[0m┃\u001b[1m \u001b[0m\u001b[1m        Param #\u001b[0m\u001b[1m \u001b[0m┃\n",
              "┡━━━━━━━━━━━━━━━━━━━━━━━━━━━━━━━━━━━━━━╇━━━━━━━━━━━━━━━━━━━━━━━━━━━━━╇━━━━━━━━━━━━━━━━━┩\n",
              "│ dense_2 (\u001b[38;5;33mDense\u001b[0m)                      │ (\u001b[38;5;45mNone\u001b[0m, \u001b[38;5;34m10\u001b[0m)                  │              \u001b[38;5;34m60\u001b[0m │\n",
              "└──────────────────────────────────────┴─────────────────────────────┴─────────────────┘\n"
            ],
            "text/html": [
              "<pre style=\"white-space:pre;overflow-x:auto;line-height:normal;font-family:Menlo,'DejaVu Sans Mono',consolas,'Courier New',monospace\">┏━━━━━━━━━━━━━━━━━━━━━━━━━━━━━━━━━━━━━━┳━━━━━━━━━━━━━━━━━━━━━━━━━━━━━┳━━━━━━━━━━━━━━━━━┓\n",
              "┃<span style=\"font-weight: bold\"> Layer (type)                         </span>┃<span style=\"font-weight: bold\"> Output Shape                </span>┃<span style=\"font-weight: bold\">         Param # </span>┃\n",
              "┡━━━━━━━━━━━━━━━━━━━━━━━━━━━━━━━━━━━━━━╇━━━━━━━━━━━━━━━━━━━━━━━━━━━━━╇━━━━━━━━━━━━━━━━━┩\n",
              "│ dense_2 (<span style=\"color: #0087ff; text-decoration-color: #0087ff\">Dense</span>)                      │ (<span style=\"color: #00d7ff; text-decoration-color: #00d7ff\">None</span>, <span style=\"color: #00af00; text-decoration-color: #00af00\">10</span>)                  │              <span style=\"color: #00af00; text-decoration-color: #00af00\">60</span> │\n",
              "└──────────────────────────────────────┴─────────────────────────────┴─────────────────┘\n",
              "</pre>\n"
            ]
          },
          "metadata": {}
        },
        {
          "output_type": "display_data",
          "data": {
            "text/plain": [
              "\u001b[1m Total params: \u001b[0m\u001b[38;5;34m60\u001b[0m (240.00 B)\n"
            ],
            "text/html": [
              "<pre style=\"white-space:pre;overflow-x:auto;line-height:normal;font-family:Menlo,'DejaVu Sans Mono',consolas,'Courier New',monospace\"><span style=\"font-weight: bold\"> Total params: </span><span style=\"color: #00af00; text-decoration-color: #00af00\">60</span> (240.00 B)\n",
              "</pre>\n"
            ]
          },
          "metadata": {}
        },
        {
          "output_type": "display_data",
          "data": {
            "text/plain": [
              "\u001b[1m Trainable params: \u001b[0m\u001b[38;5;34m60\u001b[0m (240.00 B)\n"
            ],
            "text/html": [
              "<pre style=\"white-space:pre;overflow-x:auto;line-height:normal;font-family:Menlo,'DejaVu Sans Mono',consolas,'Courier New',monospace\"><span style=\"font-weight: bold\"> Trainable params: </span><span style=\"color: #00af00; text-decoration-color: #00af00\">60</span> (240.00 B)\n",
              "</pre>\n"
            ]
          },
          "metadata": {}
        },
        {
          "output_type": "display_data",
          "data": {
            "text/plain": [
              "\u001b[1m Non-trainable params: \u001b[0m\u001b[38;5;34m0\u001b[0m (0.00 B)\n"
            ],
            "text/html": [
              "<pre style=\"white-space:pre;overflow-x:auto;line-height:normal;font-family:Menlo,'DejaVu Sans Mono',consolas,'Courier New',monospace\"><span style=\"font-weight: bold\"> Non-trainable params: </span><span style=\"color: #00af00; text-decoration-color: #00af00\">0</span> (0.00 B)\n",
              "</pre>\n"
            ]
          },
          "metadata": {}
        }
      ]
    },
    {
      "cell_type": "markdown",
      "source": [
        "7.4 tensorflow.nn.softmax()"
      ],
      "metadata": {
        "id": "OSxde5kegMNu"
      }
    },
    {
      "cell_type": "code",
      "source": [
        "import tensorflow as tf\n",
        "\n",
        "# Create a tensor with raw logits\n",
        "logits = tf.constant([2.0, 1.0, 0.1])\n",
        "\n",
        "# Apply softmax function\n",
        "softmax_output = tf.nn.softmax(logits)\n",
        "print(softmax_output)\n"
      ],
      "metadata": {
        "colab": {
          "base_uri": "https://localhost:8080/"
        },
        "id": "UIkaM7dngPUN",
        "outputId": "506382a9-8313-4dbb-8393-54ca03455f13"
      },
      "execution_count": null,
      "outputs": [
        {
          "output_type": "stream",
          "name": "stdout",
          "text": [
            "tf.Tensor([0.6590012  0.24243298 0.09856589], shape=(3,), dtype=float32)\n"
          ]
        }
      ]
    },
    {
      "cell_type": "markdown",
      "source": [
        "7.5 tensorflow.random.normal()"
      ],
      "metadata": {
        "id": "bydXahIfgTRF"
      }
    },
    {
      "cell_type": "code",
      "source": [
        "import tensorflow as tf\n",
        "\n",
        "# Create a tensor with 5 random values sampled from a normal distribution with mean=0 and stddev=1\n",
        "random_tensor = tf.random.normal([5], mean=0, stddev=1)\n",
        "print(random_tensor)\n"
      ],
      "metadata": {
        "colab": {
          "base_uri": "https://localhost:8080/"
        },
        "id": "-DjZCehAgXIt",
        "outputId": "51389757-988f-4df4-9359-7cc7408ae47a"
      },
      "execution_count": null,
      "outputs": [
        {
          "output_type": "stream",
          "name": "stdout",
          "text": [
            "tf.Tensor([ 0.5357052   1.2899469  -0.20339929  0.33561814  0.8801903 ], shape=(5,), dtype=float32)\n"
          ]
        }
      ]
    },
    {
      "cell_type": "markdown",
      "source": [
        "**8. PyTorch**"
      ],
      "metadata": {
        "id": "O8DNPlbYgb1m"
      }
    },
    {
      "cell_type": "markdown",
      "source": [
        "8.1 torch.tensor"
      ],
      "metadata": {
        "id": "UWLKneexgjnN"
      }
    },
    {
      "cell_type": "code",
      "source": [
        "import torch\n",
        "\n",
        "# Create a tensor from a list\n",
        "tensor = torch.tensor([1, 2, 3, 4])\n",
        "print(tensor)\n"
      ],
      "metadata": {
        "colab": {
          "base_uri": "https://localhost:8080/"
        },
        "id": "TbJbxZ6Dgwjd",
        "outputId": "b4aec1cd-f3f1-43ce-af2e-35297b550e80"
      },
      "execution_count": null,
      "outputs": [
        {
          "output_type": "stream",
          "name": "stdout",
          "text": [
            "tensor([1, 2, 3, 4])\n"
          ]
        }
      ]
    },
    {
      "cell_type": "markdown",
      "source": [
        "8.2 torch.randn()"
      ],
      "metadata": {
        "id": "IE4r0Utog8bE"
      }
    },
    {
      "cell_type": "code",
      "source": [
        "import torch\n",
        "\n",
        "# Generate a 2x3 tensor with random numbers from a normal distribution\n",
        "random_tensor = torch.randn(2, 3)\n",
        "print(random_tensor)\n"
      ],
      "metadata": {
        "colab": {
          "base_uri": "https://localhost:8080/"
        },
        "id": "Z24jN8jZhB58",
        "outputId": "76a70f88-75f6-4d07-eab0-c28b7bdc4256"
      },
      "execution_count": null,
      "outputs": [
        {
          "output_type": "stream",
          "name": "stdout",
          "text": [
            "tensor([[-0.4720,  0.9260,  1.0295],\n",
            "        [ 1.5459,  0.8826, -1.9280]])\n"
          ]
        }
      ]
    },
    {
      "cell_type": "markdown",
      "source": [
        "8.3 torch.nn.Linear()"
      ],
      "metadata": {
        "id": "jq5AKJKIhH6N"
      }
    },
    {
      "cell_type": "code",
      "source": [
        "import torch\n",
        "import torch.nn as nn\n",
        "\n",
        "# Create a linear layer with 3 input features and 2 output features\n",
        "linear_layer = nn.Linear(3, 2)\n",
        "\n",
        "# Create a dummy input tensor of shape (1, 3)\n",
        "input_tensor = torch.tensor([[1.0, 2.0, 3.0]])\n",
        "\n",
        "# Pass the input through the linear layer\n",
        "output = linear_layer(input_tensor)\n",
        "print(output)\n"
      ],
      "metadata": {
        "colab": {
          "base_uri": "https://localhost:8080/"
        },
        "id": "CYqjRINfhJbV",
        "outputId": "c67f8508-35c6-4c87-ee13-6572150dca92"
      },
      "execution_count": null,
      "outputs": [
        {
          "output_type": "stream",
          "name": "stdout",
          "text": [
            "tensor([[-0.9807, -0.5293]], grad_fn=<AddmmBackward0>)\n"
          ]
        }
      ]
    },
    {
      "cell_type": "markdown",
      "source": [
        "8.4 torch.cat()"
      ],
      "metadata": {
        "id": "AmrsFI4vhP-F"
      }
    },
    {
      "cell_type": "code",
      "source": [
        "import torch\n",
        "\n",
        "# Create two tensors\n",
        "tensor1 = torch.tensor([1, 2, 3])\n",
        "tensor2 = torch.tensor([4, 5, 6])\n",
        "\n",
        "# Concatenate tensors along dimension 0 (rows)\n",
        "result = torch.cat((tensor1, tensor2))\n",
        "print(result)\n"
      ],
      "metadata": {
        "colab": {
          "base_uri": "https://localhost:8080/"
        },
        "id": "aSyc6WMehUSd",
        "outputId": "cda0b840-0ea6-49b8-9a24-64d06df6e644"
      },
      "execution_count": null,
      "outputs": [
        {
          "output_type": "stream",
          "name": "stdout",
          "text": [
            "tensor([1, 2, 3, 4, 5, 6])\n"
          ]
        }
      ]
    },
    {
      "cell_type": "markdown",
      "source": [
        "8.5 torch.optim.SGD()"
      ],
      "metadata": {
        "id": "u4SfWqRShhGH"
      }
    },
    {
      "cell_type": "code",
      "source": [
        "import torch\n",
        "import torch.optim as optim\n",
        "\n",
        "# Create a simple tensor as model parameters (weights)\n",
        "weights = torch.tensor([0.5, 0.3], requires_grad=True)\n",
        "\n",
        "# Define a simple loss function\n",
        "loss_fn = torch.nn.MSELoss()\n",
        "\n",
        "# Create an optimizer (SGD with learning rate of 0.01)\n",
        "optimizer = optim.SGD([weights], lr=0.01)\n",
        "\n",
        "# Example: Calculate a dummy loss and update the weights\n",
        "output = weights[0] * 2 + weights[1]  # Dummy output\n",
        "target = torch.tensor(5.0)            # Dummy target value\n",
        "loss = loss_fn(output, target)\n",
        "\n",
        "# Backpropagate the loss\n",
        "loss.backward()\n",
        "\n",
        "# Update the weights using SGD optimizer\n",
        "optimizer.step()\n",
        "\n",
        "print(f\"Updated weights: {weights}\")\n"
      ],
      "metadata": {
        "colab": {
          "base_uri": "https://localhost:8080/"
        },
        "id": "gtteocR1hkf0",
        "outputId": "8f1c2dd2-8a44-4e33-a32b-adb0b1fdf9c8"
      },
      "execution_count": null,
      "outputs": [
        {
          "output_type": "stream",
          "name": "stdout",
          "text": [
            "Updated weights: tensor([0.6480, 0.3740], requires_grad=True)\n"
          ]
        }
      ]
    },
    {
      "cell_type": "markdown",
      "source": [
        "**Conclusion: Thus we have understood some of the machine learning library.**"
      ],
      "metadata": {
        "id": "BSWxH4osXv46"
      }
    }
  ]
}